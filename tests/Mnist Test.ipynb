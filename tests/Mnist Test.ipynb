{
 "cells": [
  {
   "cell_type": "code",
   "execution_count": 7,
   "source": [
    "import tensorflow as tf\r\n",
    "\r\n",
    "mnist = tf.keras.datasets.mnist  # 28x28 images of hand-written digits 0-9\r\n",
    "\r\n",
    "(x_train, y_train), (x_test, y_test) = mnist.load_data()\r\n",
    "\r\n",
    "x_train = tf.keras.utils.normalize(x_train, 1)\r\n",
    "x_test = tf.keras.utils.normalize(x_test, 1)\r\n",
    "\r\n",
    "model = tf.keras.models.Sequential()\r\n",
    "model.add(tf.keras.layers.Flatten())\r\n",
    "model.add(tf.keras.layers.Dense(128, activation=tf.nn.relu)) # one hidden layer with 128 neurons\r\n",
    "model.add(tf.keras.layers.Dense(10, activation=tf.nn.softmax))\r\n",
    "\r\n",
    "model.compile(optimizer='adam',\r\n",
    "             loss='sparse_categorical_crossentropy',\r\n",
    "              metrics='accuracy'\r\n",
    "             )\r\n",
    "\r\n",
    "model.fit(x_train, y_train, epochs=3) # careful because NN tend to fit well on training, but do they overfit?"
   ],
   "outputs": [
    {
     "output_type": "stream",
     "name": "stdout",
     "text": [
      "Epoch 1/3\n",
      "1875/1875 [==============================] - 2s 699us/step - loss: 0.3163 - accuracy: 0.9132\n",
      "Epoch 2/3\n",
      "1875/1875 [==============================] - 1s 674us/step - loss: 0.1445 - accuracy: 0.9579\n",
      "Epoch 3/3\n",
      "1875/1875 [==============================] - 1s 679us/step - loss: 0.0986 - accuracy: 0.9708\n"
     ]
    },
    {
     "output_type": "execute_result",
     "data": {
      "text/plain": [
       "<tensorflow.python.keras.callbacks.History at 0x1b5291afe50>"
      ]
     },
     "metadata": {},
     "execution_count": 7
    }
   ],
   "metadata": {}
  },
  {
   "cell_type": "code",
   "execution_count": 8,
   "source": [
    "val_loss, val_acc = model.evaluate(x_test, y_test)\r\n",
    "\r\n",
    "val_loss, val_acc"
   ],
   "outputs": [
    {
     "output_type": "stream",
     "name": "stdout",
     "text": [
      "313/313 [==============================] - 0s 585us/step - loss: 0.1069 - accuracy: 0.9678\n"
     ]
    },
    {
     "output_type": "execute_result",
     "data": {
      "text/plain": [
       "(0.1069411113858223, 0.9678000211715698)"
      ]
     },
     "metadata": {},
     "execution_count": 8
    }
   ],
   "metadata": {}
  },
  {
   "cell_type": "code",
   "execution_count": 10,
   "source": [
    "model.save('mnist_test') #saving model so u don't need to calculate everytime"
   ],
   "outputs": [
    {
     "output_type": "stream",
     "name": "stdout",
     "text": [
      "INFO:tensorflow:Assets written to: mnist_test\\assets\n"
     ]
    }
   ],
   "metadata": {}
  },
  {
   "cell_type": "code",
   "execution_count": 11,
   "source": [
    "new_model = tf.keras.models.load_model('mnist_test')\r\n",
    "\r\n",
    "predictions = new_model.predict([x_test])"
   ],
   "outputs": [],
   "metadata": {}
  },
  {
   "cell_type": "code",
   "execution_count": null,
   "source": [
    "import numpy as np\r\n",
    "\r\n",
    "print(np.argmax(predictions[0]))   # print the prediction of the number\r\n",
    "\r\n",
    "import matplotlib.pyplot as plt\r\n",
    "\r\n",
    "plt.imshow(x_test[0], cmap = plt.cm.binary)\r\n",
    "plt.show()"
   ],
   "outputs": [],
   "metadata": {}
  }
 ],
 "metadata": {
  "kernelspec": {
   "display_name": "Python 3 (ipykernel)",
   "language": "python",
   "name": "python3"
  },
  "language_info": {
   "codemirror_mode": {
    "name": "ipython",
    "version": 3
   },
   "file_extension": ".py",
   "mimetype": "text/x-python",
   "name": "python",
   "nbconvert_exporter": "python",
   "pygments_lexer": "ipython3",
   "version": "3.9.6"
  }
 },
 "nbformat": 4,
 "nbformat_minor": 5
}