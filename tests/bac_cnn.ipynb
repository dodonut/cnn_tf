{
  "cells": [
    {
      "cell_type": "code",
      "execution_count": 1,
      "metadata": {
        "id": "ggjeCc4a2YEh"
      },
      "outputs": [
        {
          "name": "stdout",
          "output_type": "stream",
          "text": [
            "Num GPUs Available:  1\n"
          ]
        }
      ],
      "source": [
        "import matplotlib.pyplot as plt\n",
        "import os\n",
        "import numpy as np\n",
        "\n",
        "import tensorflow as tf\n",
        "from tensorflow.keras.datasets import cifar10\n",
        "from tensorflow.keras.models import Sequential\n",
        "from tensorflow.keras.layers import Dense, Dropout, Activation, Flatten\n",
        "from tensorflow.keras.layers import Conv1D, Conv2D, MaxPool2D, MaxPool1D\n",
        "from tensorflow.keras.callbacks import TensorBoard\n",
        "from sklearn.metrics import confusion_matrix, ConfusionMatrixDisplay, classification_report\n",
        "\n",
        "import time\n",
        "\n",
        "import pickle\n",
        "print(\"Num GPUs Available: \", len(tf.config.list_physical_devices('GPU')))\n"
      ]
    },
    {
      "cell_type": "code",
      "execution_count": null,
      "metadata": {
        "id": "D45L68lHqdZr"
      },
      "outputs": [],
      "source": [
        "from IPython.display import HTML, display\n",
        "\n",
        "def set_css():\n",
        "  display(HTML('''\n",
        "  <style>\n",
        "    pre {\n",
        "        white-space: pre-wrap;\n",
        "    }\n",
        "  </style>\n",
        "  '''))\n",
        "get_ipython().events.register('pre_run_cell', set_css)"
      ]
    },
    {
      "cell_type": "code",
      "execution_count": null,
      "metadata": {
        "colab": {
          "base_uri": "https://localhost:8080/",
          "height": 17
        },
        "id": "a8iSDB_82YEk",
        "outputId": "4c5d4cbf-7166-4b67-865e-51e4d6f43ab5"
      },
      "outputs": [
        {
          "data": {
            "text/html": [
              "\n",
              "  <style>\n",
              "    pre {\n",
              "        white-space: pre-wrap;\n",
              "    }\n",
              "  </style>\n",
              "  "
            ],
            "text/plain": [
              "<IPython.core.display.HTML object>"
            ]
          },
          "metadata": {},
          "output_type": "display_data"
        }
      ],
      "source": [
        "TEST_PROPORTION = 0.3\n",
        "N_BACS = 16\n",
        "N_FEATURES = 241\n",
        "DATASTORE = '/content/drive/MyDrive/preprocess_bac/'\n",
        "PICKLES_PATH = os.path.join(DATASTORE, 'pickles')\n",
        "LABELS = []\n",
        "def load_img_data(ammount):\n",
        "    bacs = []\n",
        "    dirs = os.listdir(DATASTORE)\n",
        "    count = 0\n",
        "    for i in dirs:\n",
        "      if count < ammount:\n",
        "        count += 1\n",
        "        LABELS.append(i)\n",
        "        dirpath = os.path.join(DATASTORE, i)\n",
        "        files = os.listdir(dirpath)\n",
        "        for j in files:\n",
        "          if j == 'masked.pickle':\n",
        "            pickle_in = open(os.path.join(dirpath, j), \"rb\")\n",
        "            bacs.append(pickle.load(pickle_in))\n",
        "    return bacs\n",
        "\n",
        "def get_layer(hsi, layer):\n",
        "    return hsi[:, :, layer]\n",
        "\n",
        "def show_img_on_wave(cube, layer):\n",
        "    mat = get_layer(cube, layer)\n",
        "    plt.imshow(mat, cmap='gray')\n",
        "    plt.show()\n",
        "\n",
        "\n",
        "def hsi2mat(arr):\n",
        "    if len(arr.shape) != 3:\n",
        "        raise BaseException('A entrada deve possuir 3 dimensões')\n",
        "\n",
        "    r, c, w = arr.shape\n",
        "    return np.reshape(arr, (r*c, w))\n",
        "\n",
        "\n",
        "def mat2hsi(mat, shape):\n",
        "    return np.reshape(mat, shape)\n",
        "\n",
        "def remove_blank_lines(bacs):\n",
        "    new_bacs = []\n",
        "    for i in bacs:\n",
        "        bac = hsi2mat(i)\n",
        "        new_bac = bac[~np.all(bac == 0, axis=1)]\n",
        "        new_bacs.append(new_bac)\n",
        "    return new_bacs\n",
        "\n",
        "def create_training_dataset(bacs):\n",
        "    trainingset = []\n",
        "    for ind, val in enumerate(bacs):\n",
        "        trainingset.append([val, ind])\n",
        "    return trainingset\n",
        "\n",
        "def concat_lines_on_datasets(xtrain, ytrain, xtest, ytest, bac, cl: int):\n",
        "    pp = int(bac.shape[0]*TEST_PROPORTION)\n",
        "    vtest = bac[:pp, :]\n",
        "    if (xtest.shape[0] > 0):\n",
        "      xtest = np.concatenate((xtest, vtest))\n",
        "    else:\n",
        "      xtest = vtest\n",
        "    ytest = np.append(ytest, [cl]*vtest.shape[0])\n",
        "\n",
        "    vtrain = bac[pp:, :]\n",
        "    if (xtrain.shape[0] > 0):\n",
        "      xtrain = np.concatenate((xtrain, vtrain))\n",
        "    else:\n",
        "      xtrain = vtrain\n",
        "\n",
        "    ytrain = np.append(ytrain, [cl]*vtrain.shape[0])\n",
        "    return (xtrain, ytrain, xtest, ytest)\n",
        "\n",
        "def create_one_hot_encoding(dataset, features):\n",
        "  y = np.zeros((dataset.shape[0], features))\n",
        "  for i in range(len(dataset)):\n",
        "    y[i,int(dataset[i])] = 1\n",
        "  return y\n",
        "\n",
        "def split_train_test(dataset):\n",
        "    xtrain = np.array([])\n",
        "    ytrain = np.array([])\n",
        "    xtest = np.array([])\n",
        "    ytest = np.array([])\n",
        "    for f, l in dataset:\n",
        "        xtrain, ytrain, xtest, ytest = concat_lines_on_datasets(xtrain, ytrain, xtest, ytest, f, l)\n",
        "\n",
        "    yy = create_one_hot_encoding(ytrain, N_BACS)\n",
        "    seed = np.random.randint(0, 1000*1000)\n",
        "    np.random.seed(seed)\n",
        "    np.random.shuffle(xtrain)\n",
        "    np.random.seed(seed)\n",
        "    np.random.shuffle(yy)\n",
        "    return (xtrain, yy, xtest, create_one_hot_encoding(ytest, N_BACS))\n",
        "\n",
        "def load_dataset(ammount=0):\n",
        "    bacs = load_img_data(ammount)\n",
        "    nozeros = remove_blank_lines(bacs)\n",
        "    return create_training_dataset(nozeros)\n",
        "\n",
        "\n",
        "def normalize(data):\n",
        "    return tf.keras.utils.normalize(data, 1)\n",
        "\n",
        "def save_pickle(data, name):\n",
        "    pickle_out = open(os.path.join(PICKLES_PATH, name), \"wb\")\n",
        "    pickle.dump(data, pickle_out)\n",
        "\n",
        "    pickle_out.close()\n",
        "    \n",
        "def load_pickle(filename):\n",
        "    picklein = open(os.path.join(PICKLES_PATH, filename), \"rb\")\n",
        "    return pickle.load(picklein)"
      ]
    },
    {
      "cell_type": "code",
      "execution_count": null,
      "metadata": {
        "colab": {
          "base_uri": "https://localhost:8080/",
          "height": 17
        },
        "id": "4Qlal6QQ70Hf",
        "outputId": "f944e6b7-969d-493e-8553-d069b141697a"
      },
      "outputs": [
        {
          "data": {
            "text/html": [
              "\n",
              "  <style>\n",
              "    pre {\n",
              "        white-space: pre-wrap;\n",
              "    }\n",
              "  </style>\n",
              "  "
            ],
            "text/plain": [
              "<IPython.core.display.HTML object>"
            ]
          },
          "metadata": {},
          "output_type": "display_data"
        }
      ],
      "source": [
        "# JA TA SALVO\n",
        "# bacs = load_dataset(N_BACS)\n",
        "# xtrain, ytrain, xtest, ytest = split_train_test(bacs)\n",
        "# norm_xtrain = normalize(xtrain)\n",
        "# NORM_XTRAIN = norm_xtrain.reshape((norm_xtrain.shape[0], norm_xtrain.shape[1], 1))\n",
        "# norm_xtest = normalize(xtest)\n",
        "# NORM_XTEST = norm_xtest.reshape((xtest.shape[0], xtest.shape[1], 1))"
      ]
    },
    {
      "cell_type": "code",
      "execution_count": null,
      "metadata": {
        "colab": {
          "base_uri": "https://localhost:8080/",
          "height": 17
        },
        "id": "dU7RIPtJtlcC",
        "outputId": "aa19d18b-711c-4212-fd38-882218cc907d"
      },
      "outputs": [
        {
          "data": {
            "text/html": [
              "\n",
              "  <style>\n",
              "    pre {\n",
              "        white-space: pre-wrap;\n",
              "    }\n",
              "  </style>\n",
              "  "
            ],
            "text/plain": [
              "<IPython.core.display.HTML object>"
            ]
          },
          "metadata": {},
          "output_type": "display_data"
        }
      ],
      "source": [
        "# save_pickle(NORM_XTRAIN, 'xtrain.pickle')\n",
        "# save_pickle(ytrain, 'ytrain.pickle')\n",
        "# save_pickle(NORM_XTEST, 'xtest.pickle')\n",
        "# save_pickle(ytest, 'ytest.pickle')"
      ]
    },
    {
      "cell_type": "code",
      "execution_count": null,
      "metadata": {
        "colab": {
          "base_uri": "https://localhost:8080/",
          "height": 17
        },
        "id": "HpiQhVtYfL3R",
        "outputId": "82d899eb-b79c-4c76-9856-b2e61569fe5c"
      },
      "outputs": [
        {
          "data": {
            "text/html": [
              "\n",
              "  <style>\n",
              "    pre {\n",
              "        white-space: pre-wrap;\n",
              "    }\n",
              "  </style>\n",
              "  "
            ],
            "text/plain": [
              "<IPython.core.display.HTML object>"
            ]
          },
          "metadata": {},
          "output_type": "display_data"
        }
      ],
      "source": [
        "xtrain = load_pickle('xtrain.pickle')\n",
        "ytrain = load_pickle('ytrain.pickle')\n",
        "xtest = load_pickle('xtest.pickle')\n",
        "ytest = load_pickle('ytest.pickle')"
      ]
    },
    {
      "cell_type": "code",
      "execution_count": null,
      "metadata": {
        "colab": {
          "base_uri": "https://localhost:8080/"
        },
        "id": "N_Lb3xPQ2YEo",
        "outputId": "90efcc44-99a7-4543-eeaa-e98d9104551b"
      },
      "outputs": [
        {
          "name": "stdout",
          "output_type": "stream",
          "text": [
            "Model: \"sequential\"\n",
            "_________________________________________________________________\n",
            "Layer (type)                 Output Shape              Param #   \n",
            "=================================================================\n",
            "conv1d (Conv1D)              (None, 239, 128)          512       \n",
            "_________________________________________________________________\n",
            "max_pooling1d (MaxPooling1D) (None, 119, 128)          0         \n",
            "_________________________________________________________________\n",
            "conv1d_1 (Conv1D)            (None, 118, 64)           16448     \n",
            "_________________________________________________________________\n",
            "max_pooling1d_1 (MaxPooling1 (None, 59, 64)            0         \n",
            "_________________________________________________________________\n",
            "flatten (Flatten)            (None, 3776)              0         \n",
            "_________________________________________________________________\n",
            "dense (Dense)                (None, 16)                60432     \n",
            "=================================================================\n",
            "Total params: 77,392\n",
            "Trainable params: 77,392\n",
            "Non-trainable params: 0\n",
            "_________________________________________________________________\n"
          ]
        }
      ],
      "source": [
        "model = Sequential([\n",
        "                    Conv1D(filters=128, kernel_size=3, activation='relu', input_shape=(N_FEATURES,1)),\n",
        "                    MaxPool1D(pool_size=2),\n",
        "                    Conv1D(filters=64, kernel_size=2, activation='relu'),\n",
        "                    MaxPool1D(pool_size=2),\n",
        "                    Flatten(),\n",
        "                    Dense(N_BACS, activation='softmax')\n",
        "])\n",
        "\n",
        "model.compile(loss='categorical_crossentropy',\n",
        "              optimizer='adam',\n",
        "              metrics=['accuracy'])\n",
        "model.summary()"
      ]
    },
    {
      "cell_type": "code",
      "execution_count": null,
      "metadata": {
        "colab": {
          "base_uri": "https://localhost:8080/"
        },
        "id": "EHeuzL9fGpG_",
        "outputId": "bee006bd-4505-4b06-9ec9-e0aca3dff7b2"
      },
      "outputs": [
        {
          "name": "stdout",
          "output_type": "stream",
          "text": [
            "Epoch 1/15\n",
            "11111/11111 [==============================] - 105s 7ms/step - loss: 0.5964 - accuracy: 0.8514 - val_loss: 0.3222 - val_accuracy: 0.9187\n",
            "Epoch 2/15\n",
            "11111/11111 [==============================] - 75s 7ms/step - loss: 0.3127 - accuracy: 0.9207 - val_loss: 0.2858 - val_accuracy: 0.9264\n",
            "Epoch 3/15\n",
            "11111/11111 [==============================] - 88s 8ms/step - loss: 0.2707 - accuracy: 0.9282 - val_loss: 0.2761 - val_accuracy: 0.9262\n",
            "Epoch 4/15\n",
            "11111/11111 [==============================] - 82s 7ms/step - loss: 0.2450 - accuracy: 0.9338 - val_loss: 0.2489 - val_accuracy: 0.9325\n",
            "Epoch 5/15\n",
            "11111/11111 [==============================] - 82s 7ms/step - loss: 0.2247 - accuracy: 0.9387 - val_loss: 0.2060 - val_accuracy: 0.9448\n",
            "Epoch 6/15\n",
            "11111/11111 [==============================] - 82s 7ms/step - loss: 0.2101 - accuracy: 0.9419 - val_loss: 0.1916 - val_accuracy: 0.9468\n",
            "Epoch 7/15\n",
            "11111/11111 [==============================] - 87s 8ms/step - loss: 0.1997 - accuracy: 0.9444 - val_loss: 0.1854 - val_accuracy: 0.9474\n",
            "Epoch 8/15\n",
            "11111/11111 [==============================] - 88s 8ms/step - loss: 0.1902 - accuracy: 0.9467 - val_loss: 0.1846 - val_accuracy: 0.9483\n",
            "Epoch 9/15\n",
            "11111/11111 [==============================] - 88s 8ms/step - loss: 0.1829 - accuracy: 0.9484 - val_loss: 0.1880 - val_accuracy: 0.9475\n",
            "Epoch 10/15\n",
            "11111/11111 [==============================] - 88s 8ms/step - loss: 0.1767 - accuracy: 0.9502 - val_loss: 0.1649 - val_accuracy: 0.9536\n",
            "Epoch 11/15\n",
            "11111/11111 [==============================] - 82s 7ms/step - loss: 0.1699 - accuracy: 0.9515 - val_loss: 0.1652 - val_accuracy: 0.9541\n",
            "Epoch 12/15\n",
            "11111/11111 [==============================] - 87s 8ms/step - loss: 0.1652 - accuracy: 0.9527 - val_loss: 0.1767 - val_accuracy: 0.9479\n",
            "Epoch 13/15\n",
            "11111/11111 [==============================] - 82s 7ms/step - loss: 0.1599 - accuracy: 0.9541 - val_loss: 0.1538 - val_accuracy: 0.9565\n",
            "Epoch 14/15\n",
            "11111/11111 [==============================] - 88s 8ms/step - loss: 0.1555 - accuracy: 0.9551 - val_loss: 0.1557 - val_accuracy: 0.9550\n",
            "Epoch 15/15\n",
            "11111/11111 [==============================] - 82s 7ms/step - loss: 0.1515 - accuracy: 0.9560 - val_loss: 0.1567 - val_accuracy: 0.9561\n"
          ]
        },
        {
          "data": {
            "text/plain": [
              "<keras.callbacks.History at 0x7fb503d5d610>"
            ]
          },
          "execution_count": 8,
          "metadata": {},
          "output_type": "execute_result"
        }
      ],
      "source": [
        "model.fit(NORM_XTRAIN, ytrain, epochs=15, batch_size=32, validation_split=0.3 ,verbose=1)"
      ]
    },
    {
      "cell_type": "code",
      "execution_count": null,
      "metadata": {
        "colab": {
          "base_uri": "https://localhost:8080/"
        },
        "id": "gQ9y6SqtwSDH",
        "outputId": "15204473-b423-4ea2-80b2-b8ee7236f2a0"
      },
      "outputs": [
        {
          "name": "stdout",
          "output_type": "stream",
          "text": [
            "6803/6803 [==============================] - 27s 4ms/step - loss: 0.5086 - accuracy: 0.8811\n"
          ]
        },
        {
          "data": {
            "text/plain": [
              "[0.5086489915847778, 0.8811008930206299]"
            ]
          },
          "execution_count": 9,
          "metadata": {},
          "output_type": "execute_result"
        }
      ],
      "source": [
        "model.evaluate(NORM_XTEST, ytest, batch_size=32)"
      ]
    },
    {
      "cell_type": "code",
      "execution_count": null,
      "metadata": {
        "colab": {
          "base_uri": "https://localhost:8080/"
        },
        "id": "W_T2FYrPiLMq",
        "outputId": "95c09fad-cf02-4224-db5c-f9f7ccdeadf9"
      },
      "outputs": [
        {
          "name": "stdout",
          "output_type": "stream",
          "text": [
            "6803/6803 [==============================] - 11s 2ms/step\n"
          ]
        }
      ],
      "source": [
        "ypred = model.predict(NORM_XTEST, batch_size=32, verbose=1)"
      ]
    },
    {
      "cell_type": "code",
      "execution_count": null,
      "metadata": {
        "colab": {
          "base_uri": "https://localhost:8080/",
          "height": 17
        },
        "id": "RZWPnj6mjJxJ",
        "outputId": "56a5fdda-5687-4b10-c3bd-051f50b3b97a"
      },
      "outputs": [
        {
          "data": {
            "text/html": [
              "\n",
              "  <style>\n",
              "    pre {\n",
              "        white-space: pre-wrap;\n",
              "    }\n",
              "  </style>\n",
              "  "
            ],
            "text/plain": [
              "<IPython.core.display.HTML object>"
            ]
          },
          "metadata": {},
          "output_type": "display_data"
        }
      ],
      "source": [
        "labels = tf.argmax(ytest, axis=1)\n",
        "predict = tf.argmax(ypred, axis=1)\n",
        "\n",
        "# conf_mat = tf.math.confusion_matrix(labels, predict, N_BACS)\n",
        "\n",
        "# print(conf_mat)\n",
        "cm = confusion_matrix(labels, predict)"
      ]
    },
    {
      "cell_type": "code",
      "execution_count": null,
      "metadata": {
        "colab": {
          "base_uri": "https://localhost:8080/",
          "height": 1000
        },
        "id": "Jv_qBR7HqJm5",
        "outputId": "ef0d63ec-3048-4902-ebc0-29c1335e3b67"
      },
      "outputs": [
        {
          "data": {
            "text/html": [
              "\n",
              "  <style>\n",
              "    pre {\n",
              "        white-space: pre-wrap;\n",
              "    }\n",
              "  </style>\n",
              "  "
            ],
            "text/plain": [
              "<IPython.core.display.HTML object>"
            ]
          },
          "metadata": {},
          "output_type": "display_data"
        },
        {
          "data": {
            "text/plain": [
              "<sklearn.metrics._plot.confusion_matrix.ConfusionMatrixDisplay at 0x7fb4586e27d0>"
            ]
          },
          "execution_count": 51,
          "metadata": {},
          "output_type": "execute_result"
        },
        {
          "data": {
            "image/png": "[encoded data removed]",
            "text/plain": [
              "<Figure size 1440x1440 with 2 Axes>"
            ]
          },
          "metadata": {
            "needs_background": "light"
          },
          "output_type": "display_data"
        }
      ],
      "source": [
        "cmp = ConfusionMatrixDisplay(cm, np.arange(16))\n",
        "fig, ax = plt.subplots(figsize=(20,20))\n",
        "cmp.plot(ax=ax, values_format='d')"
      ]
    },
    {
      "cell_type": "code",
      "execution_count": null,
      "metadata": {
        "colab": {
          "base_uri": "https://localhost:8080/"
        },
        "id": "A0ZYIwn0nXqG",
        "outputId": "6f16b472-9335-4039-be3f-94d9f45b408a"
      },
      "outputs": [
        {
          "name": "stdout",
          "output_type": "stream",
          "text": [
            "                                                                 precision    recall  f1-score   support\n",
            "\n",
            "               Serratiamarcences_14765_Plastico_B_180926-105123       0.69      0.92      0.79     17404\n",
            "Staphylococcusaureus_25923_Plastico_A_Contaminado_180926-101609       0.86      0.83      0.85      7622\n",
            "        Staphylococcusepidemides_12228_Plastico_A_180926-094711       0.82      0.92      0.87      7578\n",
            "          Pseudomonasaeoruginosas_9027_Plastico_B_180926-104046       0.96      0.88      0.92     17068\n",
            "                 Proteusmirabilis_9433_Plastico_A_180926-103212       0.83      0.82      0.82      7810\n",
            "            Klebsielapneumonial_700603_Plastico_B_180926-105913       0.97      0.89      0.93     17436\n",
            "                   Salmonellaspp_10708_Plastico_B_180926-104803       0.91      0.85      0.88     17399\n",
            "                 Escherichiacoli_25922_Plastico_A_180926-101939       0.83      0.92      0.88      7355\n",
            "             Staphylococcusaureus_6538_Plastico_A_180926-101242       0.74      0.82      0.78      7491\n",
            "                Micrococcusluteus_9341_Plastico_B_180926-093534       0.98      0.80      0.88     17898\n",
            "                 Bacillusscereus_14579_Plastico_B_180926-092335       0.96      0.99      0.98     16600\n",
            "                 Bacillussubtilis_6633_Plastico_B_180926-092656       0.99      0.93      0.96     16689\n",
            "            Enterobactercloacal_HMFFTA_Plastico_A_180926-102932       0.73      0.75      0.74      7610\n",
            "     Coryniumbacteriumglutaminum_13032_Plastico_B_180926-093210       0.87      0.90      0.88     17620\n",
            "            Enterococcusfaecalis_29212_Plastico_B_180926-093958       0.98      0.88      0.93     16881\n",
            "Enterobacteaerogenes_13048_Plastico_B_Contaminado_180926-102747       0.85      0.88      0.86     17211\n",
            "\n",
            "                                                       accuracy                           0.88    217672\n",
            "                                                      macro avg       0.87      0.87      0.87    217672\n",
            "                                                   weighted avg       0.89      0.88      0.88    217672\n",
            "\n"
          ]
        }
      ],
      "source": [
        "classfic = classification_report(labels, predict, np.arange(16), LABELS)\n",
        "print(classfic)"
      ]
    },
    {
      "cell_type": "code",
      "execution_count": null,
      "metadata": {
        "colab": {
          "base_uri": "https://localhost:8080/",
          "height": 17
        },
        "id": "fLJ2YoXFuPWp",
        "outputId": "4ed70f3c-8baa-4e77-d3b3-960e5d4b82ae"
      },
      "outputs": [
        {
          "data": {
            "text/html": [
              "\n",
              "  <style>\n",
              "    pre {\n",
              "        white-space: pre-wrap;\n",
              "    }\n",
              "  </style>\n",
              "  "
            ],
            "text/plain": [
              "<IPython.core.display.HTML object>"
            ]
          },
          "metadata": {},
          "output_type": "display_data"
        }
      ],
      "source": [
        "mlp_model = Sequential([\n",
        "                        Flatten(),\n",
        "                        Dense(128, activation='relu'),\n",
        "                        Dense(128, activation='relu'),\n",
        "                        Dense(N_BACS, activation='softmax')\n",
        "])\n",
        "\n",
        "mlp_model.compile(loss='categorical_crossentropy',\n",
        "              optimizer='adam',\n",
        "              metrics=['accuracy'])"
      ]
    },
    {
      "cell_type": "code",
      "execution_count": null,
      "metadata": {
        "colab": {
          "base_uri": "https://localhost:8080/",
          "height": 544
        },
        "id": "Imi5RBkdjj9q",
        "outputId": "03f7b842-f5b2-4e52-fe67-16e8887011d6"
      },
      "outputs": [
        {
          "data": {
            "text/html": [
              "\n",
              "  <style>\n",
              "    pre {\n",
              "        white-space: pre-wrap;\n",
              "    }\n",
              "  </style>\n",
              "  "
            ],
            "text/plain": [
              "<IPython.core.display.HTML object>"
            ]
          },
          "metadata": {},
          "output_type": "display_data"
        },
        {
          "name": "stdout",
          "output_type": "stream",
          "text": [
            "Epoch 1/15\n",
            "11111/11111 [==============================] - 25s 2ms/step - loss: 1.0414 - accuracy: 0.7180 - val_loss: 0.5813 - val_accuracy: 0.8423\n",
            "Epoch 2/15\n",
            "11111/11111 [==============================] - 26s 2ms/step - loss: 0.4497 - accuracy: 0.8793 - val_loss: 0.3722 - val_accuracy: 0.8932\n",
            "Epoch 3/15\n",
            "11111/11111 [==============================] - 25s 2ms/step - loss: 0.3385 - accuracy: 0.9014 - val_loss: 0.3172 - val_accuracy: 0.9040\n",
            "Epoch 4/15\n",
            "11111/11111 [==============================] - 26s 2ms/step - loss: 0.2953 - accuracy: 0.9111 - val_loss: 0.2676 - val_accuracy: 0.9206\n",
            "Epoch 5/15\n",
            "11111/11111 [==============================] - 26s 2ms/step - loss: 0.2639 - accuracy: 0.9190 - val_loss: 0.2437 - val_accuracy: 0.9256\n",
            "Epoch 6/15\n",
            "11111/11111 [==============================] - 25s 2ms/step - loss: 0.2432 - accuracy: 0.9240 - val_loss: 0.2306 - val_accuracy: 0.9263\n",
            "Epoch 7/15\n",
            "11111/11111 [==============================] - 26s 2ms/step - loss: 0.2286 - accuracy: 0.9280 - val_loss: 0.2251 - val_accuracy: 0.9288\n",
            "Epoch 8/15\n",
            "11111/11111 [==============================] - 25s 2ms/step - loss: 0.2158 - accuracy: 0.9308 - val_loss: 0.2129 - val_accuracy: 0.9335\n",
            "Epoch 9/15\n",
            "11111/11111 [==============================] - 25s 2ms/step - loss: 0.2074 - accuracy: 0.9331 - val_loss: 0.1966 - val_accuracy: 0.9369\n",
            "Epoch 10/15\n",
            "11111/11111 [==============================] - 25s 2ms/step - loss: 0.2008 - accuracy: 0.9351 - val_loss: 0.1901 - val_accuracy: 0.9371\n",
            "Epoch 11/15\n",
            "11111/11111 [==============================] - 27s 2ms/step - loss: 0.1934 - accuracy: 0.9369 - val_loss: 0.1637 - val_accuracy: 0.9468\n",
            "Epoch 12/15\n",
            "11111/11111 [==============================] - 26s 2ms/step - loss: 0.1873 - accuracy: 0.9388 - val_loss: 0.1697 - val_accuracy: 0.9443\n",
            "Epoch 13/15\n",
            "11111/11111 [==============================] - 27s 2ms/step - loss: 0.1825 - accuracy: 0.9399 - val_loss: 0.1747 - val_accuracy: 0.9429\n",
            "Epoch 14/15\n",
            "11111/11111 [==============================] - 26s 2ms/step - loss: 0.1760 - accuracy: 0.9415 - val_loss: 0.1697 - val_accuracy: 0.9448\n",
            "Epoch 15/15\n",
            "11111/11111 [==============================] - 28s 2ms/step - loss: 0.1719 - accuracy: 0.9430 - val_loss: 0.1887 - val_accuracy: 0.9351\n"
          ]
        },
        {
          "data": {
            "text/plain": [
              "<keras.callbacks.History at 0x7f94520ff590>"
            ]
          },
          "execution_count": 18,
          "metadata": {},
          "output_type": "execute_result"
        }
      ],
      "source": [
        "mlp_model.fit(NORM_XTRAIN, ytrain, epochs=15, batch_size=32, validation_split=0.3 ,verbose=1)"
      ]
    },
    {
      "cell_type": "code",
      "execution_count": null,
      "metadata": {
        "colab": {
          "base_uri": "https://localhost:8080/",
          "height": 51
        },
        "id": "3J57aQDRlrY-",
        "outputId": "1f820bd9-65f5-4a79-d2c5-613e574bad4c"
      },
      "outputs": [
        {
          "data": {
            "text/html": [
              "\n",
              "  <style>\n",
              "    pre {\n",
              "        white-space: pre-wrap;\n",
              "    }\n",
              "  </style>\n",
              "  "
            ],
            "text/plain": [
              "<IPython.core.display.HTML object>"
            ]
          },
          "metadata": {},
          "output_type": "display_data"
        },
        {
          "name": "stdout",
          "output_type": "stream",
          "text": [
            "6803/6803 [==============================] - 8s 1ms/step - loss: 0.4634 - accuracy: 0.8691\n"
          ]
        },
        {
          "data": {
            "text/plain": [
              "[0.46344223618507385, 0.8691058158874512]"
            ]
          },
          "execution_count": 19,
          "metadata": {},
          "output_type": "execute_result"
        }
      ],
      "source": [
        "mlp_model.evaluate(NORM_XTEST, ytest, batch_size=32)"
      ]
    }
  ],
  "metadata": {
    "accelerator": "GPU",
    "colab": {
      "collapsed_sections": [],
      "name": "bac_cnn_v2.ipynb",
      "provenance": []
    },
    "interpreter": {
      "hash": "e692bde928c7e445fc837eb19c9801df5891480adb63be91fa442ff4d80b0d1d"
    },
    "kernelspec": {
      "display_name": "Python 3.9.6 64-bit",
      "name": "python3"
    },
    "language_info": {
      "codemirror_mode": {
        "name": "ipython",
        "version": 3
      },
      "file_extension": ".py",
      "mimetype": "text/x-python",
      "name": "python",
      "nbconvert_exporter": "python",
      "pygments_lexer": "ipython3",
      "version": "3.9.6"
    },
    "orig_nbformat": 4
  },
  "nbformat": 4,
  "nbformat_minor": 2
}
