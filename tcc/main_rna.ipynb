{
 "cells": [
  {
   "cell_type": "code",
   "execution_count": 7,
   "metadata": {},
   "outputs": [
    {
     "data": {
      "text/plain": [
       "<module 'helper' from 'd:\\\\TCC\\\\Code\\\\cnn_tf\\\\tcc\\\\helper.py'>"
      ]
     },
     "execution_count": 7,
     "metadata": {},
     "output_type": "execute_result"
    }
   ],
   "source": [
    "import numpy as np\n",
    "from constants import *\n",
    "import helper\n",
    "import cnn\n",
    "import importlib\n",
    "importlib.reload(helper)"
   ]
  },
  {
   "cell_type": "code",
   "execution_count": 2,
   "metadata": {},
   "outputs": [],
   "source": [
    "indx = range(16)\n",
    "labels = np.array(LABELS)[indx]\n"
   ]
  },
  {
   "cell_type": "code",
   "execution_count": 8,
   "metadata": {},
   "outputs": [],
   "source": [
    "trainpath = Join(PREPROCESS_STORE, 'Train')\n",
    "dataset = cnn.load_img_data(trainpath, indx, 'mat_nobg.pickle')\n",
    "bacs = cnn.create_dataset_labels(dataset)\n",
    "x1, y1, x2, y2 = cnn.split_xy(bacs,0.5)\n",
    "\n",
    "\n",
    "testpath = Join(PREPROCESS_STORE, 'Test')\n",
    "dataset = cnn.load_img_data(testpath, indx, 'mat_nobg.pickle')\n",
    "bacs = cnn.create_dataset_labels(dataset)\n",
    "k1, t1, k2, t2 = cnn.split_xy(bacs, 0.5)\n",
    "\n",
    "xtrain = np.concatenate([x1, k1])\n",
    "ytrain = np.concatenate([y1, t1])\n",
    "\n",
    "xtest = np.concatenate([x2, k2])\n",
    "ytest = np.concatenate([y2, t2])\n",
    "\n",
    "xtrain = helper.remove_spectrum(xtrain, range(40,210))\n",
    "xtest = helper.remove_spectrum(xtest, range(40, 210))\n",
    "\n",
    "xtrain, ytrain = cnn.shuffle_dataset(xtrain,ytrain)\n",
    "xtest, ytest = cnn.shuffle_dataset(xtest, ytest)\n",
    "\n",
    "xtrain = xtrain.reshape(xtrain.shape[0],xtrain.shape[1],1)\n",
    "xtest = xtest.reshape(xtest.shape[0],xtest.shape[1],1)"
   ]
  },
  {
   "cell_type": "code",
   "execution_count": 9,
   "metadata": {},
   "outputs": [
    {
     "name": "stdout",
     "output_type": "stream",
     "text": [
      "(669414, 170, 1) (669431, 170, 1)\n"
     ]
    }
   ],
   "source": [
    "print(xtrain.shape, xtest.shape)\n",
    "split = int(xtrain.shape[0] * 0.7)"
   ]
  },
  {
   "cell_type": "code",
   "execution_count": null,
   "metadata": {},
   "outputs": [],
   "source": [
    "cnn.mlp_compile_and_fit((xtrain[:split,:], ytrain[:split], xtrain[split:, :], ytrain[split:]), (128,128))"
   ]
  }
 ],
 "metadata": {
  "interpreter": {
   "hash": "0600588c3b5f4418cbe7b5ebc6825b479f3bc010269d8b60d75058cdd010adfe"
  },
  "kernelspec": {
   "display_name": "Python 3.7.0 64-bit",
   "language": "python",
   "name": "python3"
  },
  "language_info": {
   "codemirror_mode": {
    "name": "ipython",
    "version": 3
   },
   "file_extension": ".py",
   "mimetype": "text/x-python",
   "name": "python",
   "nbconvert_exporter": "python",
   "pygments_lexer": "ipython3",
   "version": "3.7.0"
  },
  "orig_nbformat": 4
 },
 "nbformat": 4,
 "nbformat_minor": 2
}
