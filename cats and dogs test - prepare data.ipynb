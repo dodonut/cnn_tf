{
 "cells": [
  {
   "cell_type": "code",
   "execution_count": 1,
   "source": [
    "import os\r\n",
    "import matplotlib.pyplot as plt\r\n",
    "import numpy as np\r\n",
    "import cv2\r\n",
    "\r\n",
    "# dataset link: https://www.microsoft.com/en-us/download/confirmation.aspx?id=54765\r\n",
    "DATASTORE = 'C:\\\\Datasets\\\\PetImages'  # relative to where u put the dataset\r\n",
    "CATEGORIES = ['Dog','Cat']\r\n",
    "trainingset = []\r\n",
    "\r\n"
   ],
   "outputs": [],
   "metadata": {}
  },
  {
   "cell_type": "code",
   "execution_count": 2,
   "source": [
    "IMG_SIZE = 70 # resize the image for performance"
   ],
   "outputs": [],
   "metadata": {}
  },
  {
   "cell_type": "code",
   "execution_count": 3,
   "source": [
    "def create_training_data():\r\n",
    "    num_except = 0\r\n",
    "    for ind, category in enumerate(CATEGORIES):\r\n",
    "        path = os.path.join(DATASTORE, category)\r\n",
    "        for img in os.listdir(path):\r\n",
    "            try:\r\n",
    "                img_array = cv2.imread(os.path.join(path, img), cv2.IMREAD_GRAYSCALE)\r\n",
    "                new_array = cv2.resize(img_array, (IMG_SIZE,IMG_SIZE))\r\n",
    "                trainingset.append([new_array, ind])\r\n",
    "            except Exception as e:\r\n",
    "                num_except = num_except + 1\r\n",
    "                \r\n",
    "create_training_data()"
   ],
   "outputs": [],
   "metadata": {}
  },
  {
   "cell_type": "code",
   "execution_count": 4,
   "source": [
    "print(len(trainingset))\r\n",
    "\r\n",
    "import random\r\n",
    "\r\n",
    "random.shuffle(trainingset)"
   ],
   "outputs": [
    {
     "output_type": "stream",
     "name": "stdout",
     "text": [
      "24946\n"
     ]
    }
   ],
   "metadata": {}
  },
  {
   "cell_type": "code",
   "execution_count": 5,
   "source": [
    "X = []\r\n",
    "y = []\r\n",
    "\r\n",
    "for f, l in trainingset:\r\n",
    "    X.append(f)\r\n",
    "    y.append(l)"
   ],
   "outputs": [],
   "metadata": {}
  },
  {
   "cell_type": "code",
   "execution_count": 6,
   "source": [
    "X = np.array(X).reshape(-1,IMG_SIZE,IMG_SIZE,1)\r\n",
    "\r\n",
    "import pickle\r\n",
    "# saving trainingset\r\n",
    "\r\n",
    "pickle_out = open(\"X.pickle\", \"wb\")\r\n",
    "pickle.dump(X, pickle_out)\r\n",
    "pickle_out.close()\r\n",
    "\r\n",
    "pickle_out = open(\"y.pickle\", \"wb\")\r\n",
    "pickle.dump(np.array(y), pickle_out)\r\n",
    "pickle_out.close()"
   ],
   "outputs": [],
   "metadata": {}
  }
 ],
 "metadata": {
  "kernelspec": {
   "name": "python3",
   "display_name": "Python 3.9.6 64-bit"
  },
  "language_info": {
   "codemirror_mode": {
    "name": "ipython",
    "version": 3
   },
   "file_extension": ".py",
   "mimetype": "text/x-python",
   "name": "python",
   "nbconvert_exporter": "python",
   "pygments_lexer": "ipython3",
   "version": "3.9.6"
  },
  "interpreter": {
   "hash": "e692bde928c7e445fc837eb19c9801df5891480adb63be91fa442ff4d80b0d1d"
  }
 },
 "nbformat": 4,
 "nbformat_minor": 5
}