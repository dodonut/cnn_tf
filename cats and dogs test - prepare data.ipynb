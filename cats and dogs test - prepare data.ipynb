{
 "cells": [
  {
   "cell_type": "code",
   "execution_count": 1,
   "id": "3d0913e7",
   "metadata": {},
   "outputs": [],
   "source": [
    "import os\n",
    "import matplotlib.pyplot as plt\n",
    "import numpy as np\n",
    "import cv2\n",
    "\n",
    "# dataset link: https://www.microsoft.com/en-us/download/confirmation.aspx?id=54765\n",
    "DATASTORE = 'C:\\\\Datasets\\\\PetImages'  # relative to where u put the dataset\n",
    "CATEGORIES = ['Dog','Cat']\n",
    "trainingset = []\n",
    "    "
   ]
  },
  {
   "cell_type": "code",
   "execution_count": 2,
   "id": "e10e6019",
   "metadata": {},
   "outputs": [],
   "source": [
    "IMG_SIZE = 70 # resize the image for performance"
   ]
  },
  {
   "cell_type": "code",
   "execution_count": 3,
   "id": "42cb4a03",
   "metadata": {},
   "outputs": [],
   "source": [
    "def create_training_data():\n",
    "    num_except = 0\n",
    "    for ind, category in enumerate(CATEGORIES):\n",
    "        path = os.path.join(DATASTORE, category)\n",
    "        for img in os.listdir(path):\n",
    "            try:\n",
    "                img_array = cv2.imread(os.path.join(path, img), cv2.IMREAD_GRAYSCALE)\n",
    "                new_array = cv2.resize(img_array, (IMG_SIZE,IMG_SIZE))\n",
    "                trainingset.append([new_array, ind])\n",
    "            except Exception as e:\n",
    "                num_except = num_except + 1\n",
    "                \n",
    "create_training_data()"
   ]
  },
  {
   "cell_type": "code",
   "execution_count": 4,
   "id": "593622a3",
   "metadata": {},
   "outputs": [
    {
     "name": "stdout",
     "output_type": "stream",
     "text": [
      "24946\n"
     ]
    }
   ],
   "source": [
    "print(len(trainingset))\n",
    "\n",
    "import random\n",
    "\n",
    "random.shuffle(trainingset)"
   ]
  },
  {
   "cell_type": "code",
   "execution_count": 5,
   "id": "48077d65",
   "metadata": {},
   "outputs": [],
   "source": [
    "X = []\n",
    "y = []\n",
    "\n",
    "for f, l in trainingset:\n",
    "    X.append(f)\n",
    "    y.append(l)"
   ]
  },
  {
   "cell_type": "code",
   "execution_count": 6,
   "id": "fb3ea751",
   "metadata": {},
   "outputs": [],
   "source": [
    "X = np.array(X).reshape(-1,IMG_SIZE,IMG_SIZE,1)\n",
    "\n",
    "import pickle\n",
    "# saving trainingset\n",
    "\n",
    "pickle_out = open(\"X.pickle\", \"wb\")\n",
    "pickle.dump(X, pickle_out)\n",
    "pickle_out.close()\n",
    "\n",
    "pickle_out = open(\"y.pickle\", \"wb\")\n",
    "pickle.dump(y, pickle_out)\n",
    "pickle_out.close()"
   ]
  },
  {
   "cell_type": "code",
   "execution_count": null,
   "id": "ead5c45b",
   "metadata": {},
   "outputs": [],
   "source": []
  },
  {
   "cell_type": "code",
   "execution_count": null,
   "id": "211405dd",
   "metadata": {},
   "outputs": [],
   "source": [
    "\n",
    "\n"
   ]
  }
 ],
 "metadata": {
  "kernelspec": {
   "display_name": "Python 3 (ipykernel)",
   "language": "python",
   "name": "python3"
  },
  "language_info": {
   "codemirror_mode": {
    "name": "ipython",
    "version": 3
   },
   "file_extension": ".py",
   "mimetype": "text/x-python",
   "name": "python",
   "nbconvert_exporter": "python",
   "pygments_lexer": "ipython3",
   "version": "3.9.6"
  }
 },
 "nbformat": 4,
 "nbformat_minor": 5
}
