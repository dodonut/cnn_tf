{
 "cells": [
  {
   "cell_type": "code",
   "execution_count": 2,
   "source": [
    "import tensorflow as tf\r\n",
    "from tensorflow.keras.datasets import cifar10\r\n",
    "from tensorflow.keras.preprocessing.image import ImageDataGenerator\r\n",
    "from tensorflow.keras.models import Sequential\r\n",
    "from tensorflow.keras.layers import Dense, Dropout, Activation, Flatten\r\n",
    "from tensorflow.keras.layers import Conv2D, MaxPooling2D\r\n",
    "from tensorflow.keras.callbacks import TensorBoard\r\n",
    "import time\r\n",
    "\r\n",
    "import pickle\r\n",
    "\r\n",
    "# gpu_options = tf.GPUOptions(per_process_gpu_memory_fraction=0.333)\r\n",
    "# sess = tf.Session(config=tf.ConfigProto(gpu_options=gpu_options))\r\n",
    "\r\n",
    "pickle_in = open(\"X.pickle\",\"rb\")\r\n",
    "X = pickle.load(pickle_in)\r\n",
    "\r\n",
    "pickle_in = open(\"y.pickle\",\"rb\")\r\n",
    "y = pickle.load(pickle_in)\r\n",
    "\r\n",
    "X = X/255.0"
   ],
   "outputs": [],
   "metadata": {}
  },
  {
   "cell_type": "code",
   "execution_count": 3,
   "source": [
    "print(type(X), type(y))\r\n",
    "print(\"Num GPUs Available: \", len(tf.config.list_physical_devices('GPU')))"
   ],
   "outputs": [
    {
     "output_type": "stream",
     "name": "stdout",
     "text": [
      "<class 'numpy.ndarray'> <class 'numpy.ndarray'>\n",
      "Num GPUs Available:  1\n"
     ]
    }
   ],
   "metadata": {}
  },
  {
   "cell_type": "code",
   "execution_count": 4,
   "source": [
    "NAME = 'cat-dogs-64x2-{}'.format(int(time.time()))\r\n",
    "\r\n",
    "tensorboard = TensorBoard(log_dir='logs/{}'.format(NAME))"
   ],
   "outputs": [],
   "metadata": {}
  },
  {
   "cell_type": "code",
   "execution_count": 6,
   "source": [
    "model = Sequential()\r\n",
    "\r\n",
    "model.add(Conv2D(64, 3, input_shape=X.shape[1:]))\r\n",
    "model.add(Activation('relu'))\r\n",
    "model.add(MaxPooling2D(pool_size=(2,2)))\r\n",
    "\r\n",
    "model.add(Conv2D(64, 3))\r\n",
    "model.add(Activation('relu'))\r\n",
    "model.add(MaxPooling2D(pool_size=(2,2)))\r\n",
    "\r\n",
    "model.add(Flatten())  # this converts our 3D feature maps to 1D feature vectors\r\n",
    "\r\n",
    "model.add(Dense(64))\r\n",
    "model.add(Activation('relu'))\r\n",
    "\r\n",
    "model.add(Dense(1))\r\n",
    "model.add(Activation('sigmoid'))\r\n",
    "\r\n",
    "model.compile(loss='binary_crossentropy',\r\n",
    "              optimizer='adam',\r\n",
    "              metrics=['accuracy'])\r\n",
    "\r\n",
    "model.fit(X, y, epochs=20, validation_split=0.3, callbacks=[tensorboard])"
   ],
   "outputs": [
    {
     "output_type": "stream",
     "name": "stdout",
     "text": [
      "Epoch 1/20\n",
      "175/175 [==============================] - 8s 39ms/step - loss: 0.6696 - accuracy: 0.5788 - val_loss: 0.6075 - val_accuracy: 0.6859\n",
      "Epoch 2/20\n",
      "175/175 [==============================] - 6s 36ms/step - loss: 0.5951 - accuracy: 0.6821 - val_loss: 0.5704 - val_accuracy: 0.7038\n",
      "Epoch 3/20\n",
      "175/175 [==============================] - 6s 36ms/step - loss: 0.5311 - accuracy: 0.7356 - val_loss: 0.5271 - val_accuracy: 0.7377\n",
      "Epoch 4/20\n",
      "175/175 [==============================] - 6s 36ms/step - loss: 0.4858 - accuracy: 0.7673 - val_loss: 0.4916 - val_accuracy: 0.7600\n",
      "Epoch 5/20\n",
      "175/175 [==============================] - 6s 36ms/step - loss: 0.4387 - accuracy: 0.7959 - val_loss: 0.4618 - val_accuracy: 0.7805\n",
      "Epoch 6/20\n",
      "175/175 [==============================] - 6s 36ms/step - loss: 0.4009 - accuracy: 0.8167 - val_loss: 0.4552 - val_accuracy: 0.7881\n",
      "Epoch 7/20\n",
      "175/175 [==============================] - 6s 36ms/step - loss: 0.3668 - accuracy: 0.8363 - val_loss: 0.4717 - val_accuracy: 0.7773\n",
      "Epoch 8/20\n",
      "175/175 [==============================] - 6s 36ms/step - loss: 0.3228 - accuracy: 0.8619 - val_loss: 0.4791 - val_accuracy: 0.7778\n",
      "Epoch 9/20\n",
      "175/175 [==============================] - 6s 36ms/step - loss: 0.2784 - accuracy: 0.8837 - val_loss: 0.4905 - val_accuracy: 0.7858\n",
      "Epoch 10/20\n",
      "175/175 [==============================] - 6s 36ms/step - loss: 0.2226 - accuracy: 0.9117 - val_loss: 0.5132 - val_accuracy: 0.7851\n",
      "Epoch 11/20\n",
      "175/175 [==============================] - 6s 36ms/step - loss: 0.1755 - accuracy: 0.9341 - val_loss: 0.5873 - val_accuracy: 0.7814\n",
      "Epoch 12/20\n",
      "175/175 [==============================] - 6s 36ms/step - loss: 0.1301 - accuracy: 0.9545 - val_loss: 0.6527 - val_accuracy: 0.7795\n",
      "Epoch 13/20\n",
      "175/175 [==============================] - 6s 36ms/step - loss: 0.0954 - accuracy: 0.9707 - val_loss: 0.7627 - val_accuracy: 0.7735\n",
      "Epoch 14/20\n",
      "175/175 [==============================] - 6s 36ms/step - loss: 0.0740 - accuracy: 0.9771 - val_loss: 0.7803 - val_accuracy: 0.7765\n",
      "Epoch 15/20\n",
      "175/175 [==============================] - 6s 36ms/step - loss: 0.0537 - accuracy: 0.9856 - val_loss: 0.8211 - val_accuracy: 0.7759\n",
      "Epoch 16/20\n",
      "175/175 [==============================] - 6s 36ms/step - loss: 0.0313 - accuracy: 0.9936 - val_loss: 0.9393 - val_accuracy: 0.7762\n",
      "Epoch 17/20\n",
      "175/175 [==============================] - 6s 36ms/step - loss: 0.0202 - accuracy: 0.9973 - val_loss: 0.9909 - val_accuracy: 0.7769\n",
      "Epoch 18/20\n",
      "175/175 [==============================] - 6s 35ms/step - loss: 0.0151 - accuracy: 0.9978 - val_loss: 1.0483 - val_accuracy: 0.7782\n",
      "Epoch 19/20\n",
      "175/175 [==============================] - 6s 36ms/step - loss: 0.0110 - accuracy: 0.9987 - val_loss: 1.1775 - val_accuracy: 0.7727\n",
      "Epoch 20/20\n",
      "175/175 [==============================] - 6s 36ms/step - loss: 0.0066 - accuracy: 0.9994 - val_loss: 1.2149 - val_accuracy: 0.7771\n"
     ]
    },
    {
     "output_type": "execute_result",
     "data": {
      "text/plain": [
       "<tensorflow.python.keras.callbacks.History at 0x27b1559cd90>"
      ]
     },
     "metadata": {},
     "execution_count": 6
    }
   ],
   "metadata": {}
  }
 ],
 "metadata": {
  "kernelspec": {
   "name": "python3",
   "display_name": "Python 3.9.6 64-bit"
  },
  "language_info": {
   "codemirror_mode": {
    "name": "ipython",
    "version": 3
   },
   "file_extension": ".py",
   "mimetype": "text/x-python",
   "name": "python",
   "nbconvert_exporter": "python",
   "pygments_lexer": "ipython3",
   "version": "3.9.6"
  },
  "interpreter": {
   "hash": "e692bde928c7e445fc837eb19c9801df5891480adb63be91fa442ff4d80b0d1d"
  }
 },
 "nbformat": 4,
 "nbformat_minor": 5
}